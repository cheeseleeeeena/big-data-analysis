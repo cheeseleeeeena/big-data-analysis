{
 "cells": [
  {
   "cell_type": "code",
   "execution_count": 2,
   "metadata": {},
   "outputs": [],
   "source": [
    "# 11 news categories\n",
    "news_links =[ 'big-data', 'cloud']\n",
    "news_categories=['AI','Cloud']\n",
    "base_url = 'https://www.ithome.com.tw/'"
   ]
  },
  {
   "cell_type": "code",
   "execution_count": 3,
   "metadata": {},
   "outputs": [],
   "source": [
    "import requests\n",
    "from bs4 import BeautifulSoup\n",
    "import re\n",
    "from datetime import datetime\n",
    "import time"
   ]
  },
  {
   "cell_type": "code",
   "execution_count": 4,
   "metadata": {},
   "outputs": [
    {
     "name": "stdout",
     "output_type": "stream",
     "text": [
      "Wall time: 0 ns\n"
     ]
    }
   ],
   "source": [
    "%%time\n",
    "links = []\n",
    "titles = []\n",
    "dates = []\n",
    "contents = []\n",
    "categories = []\n",
    "item_id = []\n",
    "photo_links = []"
   ]
  },
  {
   "cell_type": "code",
   "execution_count": 5,
   "metadata": {},
   "outputs": [
    {
     "name": "stdout",
     "output_type": "stream",
     "text": [
      "Getting categorical news: AI\n",
      "Getting categorical news url: https://www.ithome.com.tw/big-data\n",
      "1 -- 微軟傳已投入開發自有AI專用晶片 \n",
      "2 -- Adobe Lightroom新增以AI消除噪點、強化細節修整的功能 \n",
      "3 -- Snapchat開放聊天機器人供全球用戶免費體驗，推出AI生成的濾鏡 \n",
      "4 -- 馬斯克要發展AI聊天機器人TruthGPT \n",
      "5 -- Reddit API要對開發AI模型獲利的用戶收費 \n",
      "6 -- 以AI生成的黑白照片獲索尼世界攝影大賽首獎，創作者拒絕領獎 \n",
      "7 -- 外傳三星正考慮以Bing取代Google作為裝置預設搜尋引擎 \n",
      "8 -- 傳馬斯克已成立開發ChatGPT競爭服務的AI公司 \n",
      "9 -- Google訓練機器人在自家辦公室分類垃圾 \n",
      "10 -- Meta開源可以把素描變成動畫的AI專案Animated Drawings \n",
      "Getting categorical news: Cloud\n",
      "Getting categorical news url: https://www.ithome.com.tw/cloud\n",
      "1 -- Pulumi整合大型語言模型，自動化雲端基礎設施即程式碼操作 \n",
      "2 -- Visual Studio 17.6將加入建置加速平臺Incredibuild 10 \n",
      "3 -- Amazon推出雲端AI模型平臺Bedrock、大型語言模型Titan \n",
      "4 -- ASP.NET Core鎖定雲端應用程式提供原生AOT支援，程式啟動更快記憶體消耗更少 \n",
      "5 -- Wasmer發表WCGI讓開發者將CGI程式編譯成WebAssembly \n",
      "6 -- 資安公司監測160萬人，竟有3.1%員工上傳機敏資料到ChatGPT \n",
      "7 -- AWS Service Catalog讓用戶也能使用Terraform管控雲端資源 \n",
      "8 -- Nvidia雲端新戰略 \n",
      "9 -- 【ChatGPT浪潮來襲，帶動平價客製化AI模型新需求】Nvidia大進擊，從AI軟硬體商變成雲端AI供應商 \n",
      "10 -- Databricks針對製造業推出資料湖倉，加速資料分析和AI用例開發 \n"
     ]
    }
   ],
   "source": [
    "for i, url_short_name in enumerate(news_links):  #針對每一類 共有11類\n",
    "\n",
    "    category = news_categories[i]\n",
    "\n",
    "    # Categorical url link\n",
    "    category_url = base_url + url_short_name\n",
    "    print(\"Getting categorical news:\", category)\n",
    "    print(\"Getting categorical news url:\", category_url)\n",
    "\n",
    "    # Request the categorical news page\n",
    "    req = requests.get(category_url)\n",
    "    page = BeautifulSoup(req.text, 'lxml')\n",
    "\n",
    "    items = page.findAll('div', {'class': re.compile(\"view-content\")})[2].findAll('div', {'class': re.compile(\"span4 channel-item\")})\n",
    "\n",
    "    serial_no = 1\n",
    "    for j, item in enumerate(items): #針對每一篇項目 抓其細節\n",
    "        # title\n",
    "        title = item.find('p',{'class':\"title\"}).text\n",
    "        print(serial_no,'--', title )\n",
    "        \n",
    "        # news link\n",
    "        link = item.find('p',{'class':\"title\"}).find('a')['href']\n",
    "        link = base_url + link\n",
    "        # print(link)\n",
    "\n",
    "        # photo link\n",
    "        try:\n",
    "            if item.find('img').has_attr('data-src'):\n",
    "                photo_link = item.find('img').get('data-src')\n",
    "            else:\n",
    "                photo_link = item.find('img').get('src')\n",
    "            # print(photo_link)\n",
    "        except:\n",
    "            photo_link = ''\n",
    "\n",
    "        # date\n",
    "        # get date and convert it with the format of \"2022-04-20\"\n",
    "        news_date_str = item.find('p', {'class':\"post-at\"}).text.strip()\n",
    "        # print(news_date_str)\n",
    "        # convert the string to a datetime object\n",
    "        dtime = datetime.strptime(news_date_str, \"%Y-%m-%d\")\n",
    "        # convert to the format of \"20220420\"\n",
    "        dtstr = dtime.strftime(\"%Y%m%d\")\n",
    "\n",
    "\n",
    "        page = BeautifulSoup(requests.get( link ).text,'lxml')\n",
    "        # Find content\n",
    "        content = page.find('div',{'class':\"field-type-text-with-summary\"})\n",
    "        \n",
    "        try:\n",
    "            content.find('span').decompose()\n",
    "        except:\n",
    "            pass\n",
    "\n",
    "        cont = content.text\n",
    "\n",
    "        contents.append(cont)\n",
    "        categories.append(category)\n",
    "        titles.append(title)\n",
    "        links.append(link)\n",
    "        photo_links.append(photo_link)\n",
    "        dates.append(news_date_str)      \n",
    "        item_id.append(url_short_name + \"_\" + dtstr + \"_\" + str(serial_no))\n",
    "        serial_no += 1\n",
    "        \n",
    "        time.sleep(2)  # 遵守爬蟲禮節，請小睡一下，以防被擋\n",
    "\n",
    "        if (j==9): # Here we crawl only 5 pieces of news.\n",
    "            break"
   ]
  },
  {
   "cell_type": "code",
   "execution_count": 6,
   "metadata": {},
   "outputs": [],
   "source": [
    "# page\n",
    "# print(items)\n",
    "# dtstr\n",
    "# content\n"
   ]
  },
  {
   "cell_type": "code",
   "execution_count": 7,
   "metadata": {},
   "outputs": [],
   "source": [
    "import pandas as pd\n",
    "\n",
    "data = zip(item_id, dates, categories, titles, contents, links, photo_links)\n",
    "df = pd.DataFrame(list(data), columns=['item_id','date','category','title','content','link','photo_link'])"
   ]
  },
  {
   "cell_type": "code",
   "execution_count": 8,
   "metadata": {},
   "outputs": [
    {
     "data": {
      "text/html": [
       "<div>\n",
       "<style scoped>\n",
       "    .dataframe tbody tr th:only-of-type {\n",
       "        vertical-align: middle;\n",
       "    }\n",
       "\n",
       "    .dataframe tbody tr th {\n",
       "        vertical-align: top;\n",
       "    }\n",
       "\n",
       "    .dataframe thead th {\n",
       "        text-align: right;\n",
       "    }\n",
       "</style>\n",
       "<table border=\"1\" class=\"dataframe\">\n",
       "  <thead>\n",
       "    <tr style=\"text-align: right;\">\n",
       "      <th></th>\n",
       "      <th>item_id</th>\n",
       "      <th>date</th>\n",
       "      <th>category</th>\n",
       "      <th>title</th>\n",
       "      <th>content</th>\n",
       "      <th>link</th>\n",
       "      <th>photo_link</th>\n",
       "    </tr>\n",
       "  </thead>\n",
       "  <tbody>\n",
       "    <tr>\n",
       "      <th>0</th>\n",
       "      <td>big-data_20230420_1</td>\n",
       "      <td>2023-04-20</td>\n",
       "      <td>AI</td>\n",
       "      <td>微軟傳已投入開發自有AI專用晶片</td>\n",
       "      <td>《The Information》報導，積極投入AI策略的微軟，數年前已著手開發一顆專門為...</td>\n",
       "      <td>https://www.ithome.com.tw//news/156484</td>\n",
       "      <td>https://s4.itho.me/sites/default/files/styles/...</td>\n",
       "    </tr>\n",
       "    <tr>\n",
       "      <th>1</th>\n",
       "      <td>big-data_20230420_2</td>\n",
       "      <td>2023-04-20</td>\n",
       "      <td>AI</td>\n",
       "      <td>Adobe Lightroom新增以AI消除噪點、強化細節修整的功能</td>\n",
       "      <td>本周在NAB產品大會上，Adobe宣布多項整合AI，可消除相片噪點、調整圖片細節的新Lig...</td>\n",
       "      <td>https://www.ithome.com.tw//news/156482</td>\n",
       "      <td>https://s4.itho.me/sites/default/files/styles/...</td>\n",
       "    </tr>\n",
       "  </tbody>\n",
       "</table>\n",
       "</div>"
      ],
      "text/plain": [
       "               item_id        date category  \\\n",
       "0  big-data_20230420_1  2023-04-20       AI   \n",
       "1  big-data_20230420_2  2023-04-20       AI   \n",
       "\n",
       "                                 title  \\\n",
       "0                    微軟傳已投入開發自有AI專用晶片    \n",
       "1  Adobe Lightroom新增以AI消除噪點、強化細節修整的功能    \n",
       "\n",
       "                                             content  \\\n",
       "0   《The Information》報導，積極投入AI策略的微軟，數年前已著手開發一顆專門為...   \n",
       "1   本周在NAB產品大會上，Adobe宣布多項整合AI，可消除相片噪點、調整圖片細節的新Lig...   \n",
       "\n",
       "                                     link  \\\n",
       "0  https://www.ithome.com.tw//news/156484   \n",
       "1  https://www.ithome.com.tw//news/156482   \n",
       "\n",
       "                                          photo_link  \n",
       "0  https://s4.itho.me/sites/default/files/styles/...  \n",
       "1  https://s4.itho.me/sites/default/files/styles/...  "
      ]
     },
     "execution_count": 8,
     "metadata": {},
     "output_type": "execute_result"
    }
   ],
   "source": [
    "df.head(2)"
   ]
  },
  {
   "cell_type": "code",
   "execution_count": 9,
   "metadata": {},
   "outputs": [],
   "source": [
    "df.to_csv(\"ithome_categories_news.csv\", sep=\"|\", index=False)"
   ]
  },
  {
   "cell_type": "code",
   "execution_count": 10,
   "metadata": {},
   "outputs": [
    {
     "name": "stdout",
     "output_type": "stream",
     "text": [
      "1.  《The Information》報導，積極投入AI策略的微軟，數年前已著手開發一顆專門為AI模型訓練及執行聊天機器人而設計的強大晶片，代號為Athena。\n",
      "報導引述2名消息人士指出，微軟早在2019年就已啟動Athena專案的開發，希望這顆軟、硬整合設計的晶片能提供比市售晶片更大的運算效能。微軟2019年首次投資AI新創公司OpenAI 10億美元。消息人士也說，已有部分微軟和OpenAI員工已經拿到Athena的工程樣品。\n",
      "報導指出，目前有300人投入Athena專案開發。Athena專案規畫數代設計，第一代可能以台積電5奈米製程生產。\n",
      "微軟最近投資OpenAI數十億美元，取得其GPT模型及ChatGPT技術。微軟最終目的是希望將AI整合到它所有產品服務中，包括Office、Windows、甚至整個Azure雲端服務。而一旦以高效能晶片作為Azure雲端的運行底層，將需天價硬體成本。\n",
      "專家分析，現有AI系統使用的GPU中，Nvidia的A100及H100占了90% 的市場，兩顆售價分別在每顆1萬及4萬美元。透過自行研發晶片，微軟可能希望藉此降低資料中心成本，提升開發主導性及開發時程，或至少取得和Nvidia議價的籌碼。\n",
      "微軟和Nvidia皆未對此回應。\n",
      "這並不是微軟第一次投入AI硬體開發。微軟2017年也透過Brainwave專案，開發在雲端及邊緣執行即時AI推論的深度學習平臺。\n",
      "其他的雲端大廠，包括Google、Amazon Web Services、騰訊、阿里巴巴等也都投入自製AI晶片。\n",
      "\n",
      "2. (20, 7)\n"
     ]
    }
   ],
   "source": [
    "df = pd.read_csv(\"ithome_categories_news.csv\", sep=\"|\")\n",
    "# df.head(2)\n",
    "print(\"1.\", df.content[0])\n",
    "print(\"2.\", df.shape)"
   ]
  },
  {
   "cell_type": "code",
   "execution_count": 11,
   "metadata": {},
   "outputs": [
    {
     "data": {
      "text/plain": [
       "0     《The Information》報導，積極投入AI策略的微軟，數年前已著手開發一顆專門為...\n",
       "1     本周在NAB產品大會上，Adobe宣布多項整合AI，可消除相片噪點、調整圖片細節的新Lig...\n",
       "2     Snapchat於今年2月已經宣布與OpenAI合作推出名為「我的 AI（My AI）」的...\n",
       "3     推特及特斯拉執行長馬斯克（Elon Musk）本周表示要開發不說謊，更安全的AI聊天機器人...\n",
       "4     有鑒於OpenAI或其他AI業者利用Reddit上的程式碼等資源，開源碼程式碼代管平臺Re...\n",
       "Name: content, dtype: object"
      ]
     },
     "execution_count": 11,
     "metadata": {},
     "output_type": "execute_result"
    }
   ],
   "source": [
    "# df.head()\n",
    "df.content[0:5]"
   ]
  },
  {
   "cell_type": "code",
   "execution_count": 12,
   "metadata": {},
   "outputs": [],
   "source": [
    "import numpy"
   ]
  },
  {
   "cell_type": "code",
   "execution_count": 13,
   "metadata": {},
   "outputs": [],
   "source": [
    "from ckip_transformers.nlp import CkipWordSegmenter, CkipPosTagger, CkipNerChunker\n",
    "\n",
    "ws = CkipWordSegmenter(model=\"albert-tiny\") \n",
    "pos = CkipPosTagger(model=\"albert-tiny\")\n",
    "ner = CkipNerChunker(model=\"albert-tiny\")\n"
   ]
  },
  {
   "cell_type": "markdown",
   "metadata": {},
   "source": [
    "### **WS 斷詞**"
   ]
  },
  {
   "cell_type": "code",
   "execution_count": 14,
   "metadata": {},
   "outputs": [
    {
     "name": "stderr",
     "output_type": "stream",
     "text": [
      "Tokenization: 100%|██████████| 20/20 [00:00<00:00, 120.03it/s]\n",
      "Inference: 100%|██████████| 1/1 [00:15<00:00, 15.77s/it]"
     ]
    },
    {
     "name": "stdout",
     "output_type": "stream",
     "text": [
      "Wall time: 16.1 s\n"
     ]
    },
    {
     "name": "stderr",
     "output_type": "stream",
     "text": [
      "\n"
     ]
    }
   ],
   "source": [
    "%%time\n",
    "# It takes time.\n",
    "tokens=ws(df.content)"
   ]
  },
  {
   "cell_type": "markdown",
   "metadata": {},
   "source": [
    "### **POS詞性標記**"
   ]
  },
  {
   "cell_type": "code",
   "execution_count": 15,
   "metadata": {},
   "outputs": [
    {
     "name": "stderr",
     "output_type": "stream",
     "text": [
      "Tokenization: 100%|██████████| 20/20 [00:00<00:00, 315.22it/s]\n",
      "Inference: 100%|██████████| 5/5 [00:44<00:00,  8.81s/it]"
     ]
    },
    {
     "name": "stdout",
     "output_type": "stream",
     "text": [
      "Wall time: 44.3 s\n"
     ]
    },
    {
     "name": "stderr",
     "output_type": "stream",
     "text": [
      "\n"
     ]
    }
   ],
   "source": [
    "%%time\n",
    "tokens_pos = pos(tokens)"
   ]
  },
  {
   "cell_type": "code",
   "execution_count": 16,
   "metadata": {},
   "outputs": [
    {
     "name": "stdout",
     "output_type": "stream",
     "text": [
      "1. 20\n",
      "2. 412\n",
      "3. ['WHITESPACE', 'PARENTHESISCATEGORY', 'FW', 'WHITESPACE', 'FW', 'PARENTHESISCATEGORY', 'VE', 'COMMACATEGORY', 'VH', 'VC', 'FW', 'Na', 'DE', 'Nb', 'COMMACATEGORY', 'Neu', 'Nf', 'Ng', 'D', 'VF', 'VC', 'Neu', 'Nf', 'VL', 'P', 'FW', 'Na', 'Na', 'Caa', 'VC', 'VA', 'Na', 'Cbb', 'VC', 'DE', 'VH', 'Na', 'COMMACATEGORY', 'Na', 'VG', 'FW', 'PERIODCATEGORY', 'WHITESPACE', 'Na', 'VC', 'Neu', 'Nf', 'Na', 'Na', 'VE', 'COMMACATEGORY', 'Nb', 'D', 'P', 'Neu', 'D', 'D', 'VC', 'FW', 'Na', 'DE', 'Nv', 'COMMACATEGORY', 'VK', 'Nep', 'Nf', 'VH', 'PAUSECATEGORY', 'VC', 'Na', 'DE', 'Na', 'D', 'VD', 'P', 'A', 'Na', 'Dfa', 'VH', 'DE', 'Nv', 'Na', 'PERIODCATEGORY', 'Nb', 'Neu', 'D', 'VC', 'FW', 'VC', 'Nc', 'FW', 'Nf', 'PERIODCATEGORY', 'Na', 'Na', 'D', 'VE', 'COMMACATEGORY', 'D', 'V_2', 'Neqa', 'Nb', 'Caa', 'FW', 'Na', 'D', 'VC', 'FW', 'DE', 'Na', 'Na', 'PERIODCATEGORY', 'WHITESPACE', 'VE', 'VE', 'COMMACATEGORY', 'Nd', 'V_2', 'Neu', 'Na', 'VC', 'FW', 'Na', 'VC', 'PERIODCATEGORY', 'FW', 'Na', 'Na', 'Neu', 'VC', 'COMMACATEGORY', 'Neu', 'D', 'D', 'P', 'Nb', 'Neu', 'Na', 'Na', 'Na', 'VC', 'PERIODCATEGORY', 'WHITESPACE', 'Nb', 'Nd', 'VC', 'FW', 'FW', 'Na', 'Neu', 'Nf', 'COMMACATEGORY', 'VC', 'Nep', 'FW', 'Na', 'Caa', 'FW', 'Na', 'PERIODCATEGORY', 'Nb', 'A', 'Na', 'SHI', 'VK', 'P', 'FW', 'VC', 'Nh', 'Neqa', 'Na', 'VC', 'Ng', 'COMMACATEGORY', 'VK', 'FW', 'PAUSECATEGORY', 'FW', 'PAUSECATEGORY', 'D', 'Neqa', 'FW', 'Nc', 'VC', 'PERIODCATEGORY', 'Cbb', 'Cbb', 'P', 'Na', 'Na', 'VG', 'FW', 'Nc', 'DE', 'VA', 'Nc', 'COMMACATEGORY', 'D', 'D', 'Na', 'Na', 'PERIODCATEGORY', 'FW', 'VC', 'COMMACATEGORY', 'A', 'FW', 'Na', 'VC', 'DE', 'FW', 'Ng', 'COMMACATEGORY', 'FW', 'DE', 'FW', 'Caa', 'FW', 'VJ', 'Di', 'Neqa', 'WHITESPACE', 'DE', 'Nc', 'COMMACATEGORY', 'Neu', 'Nf', 'Na', 'D', 'P', 'Nes', 'Nf', 'Neu', 'Caa', 'Neu', 'Nf', 'PERIODCATEGORY', 'P', 'D', 'VC', 'Na', 'COMMACATEGORY', 'Nb', 'D', 'VK', 'P', 'Nep', 'VHC', 'Na', 'Nc', 'Na', 'COMMACATEGORY', 'VC', 'VC', 'Na', 'Caa', 'VC', 'Na', 'COMMACATEGORY', 'Caa', 'Da', 'VC', 'FW', 'FW', 'VA', 'DE', 'Na', 'PERIODCATEGORY', 'WHITESPACE', 'Nb', 'Caa', 'FW', 'D', 'D', 'P', 'Nep', 'VC', 'PERIODCATEGORY', 'WHITESPACE', 'Nep', 'D', 'D', 'SHI', 'Nb', 'Neu', 'Nf', 'VC', 'FW', 'Na', 'VC', 'PERIODCATEGORY', 'Nb', 'Neu', 'D', 'P', 'FW', 'Na', 'COMMACATEGORY', 'VC', 'P', 'Nc', 'Caa', 'Nc', 'VC', 'VH', 'FW', 'Na', 'DE', 'Na', 'Nv', 'Na', 'PERIODCATEGORY', 'WHITESPACE', 'Neqa', 'DE', 'Nc', 'VH', 'Nc', 'COMMACATEGORY', 'VK', 'FW', 'PAUSECATEGORY', 'FW', 'FW', 'FW', 'PAUSECATEGORY', 'VA', 'PAUSECATEGORY', 'Nb', 'Cab', 'D', 'D', 'VC', 'VC', 'FW', 'Na', 'PERIODCATEGORY', 'WHITESPACE']\n"
     ]
    }
   ],
   "source": [
    "print(\"1.\",len(tokens_pos))\n",
    "print(\"2.\",len(tokens_pos[1]))\n",
    "print(\"3.\",tokens_pos[0])"
   ]
  },
  {
   "cell_type": "markdown",
   "metadata": {},
   "source": [
    "### **NER 實體辨識**"
   ]
  },
  {
   "cell_type": "code",
   "execution_count": 17,
   "metadata": {},
   "outputs": [
    {
     "name": "stderr",
     "output_type": "stream",
     "text": [
      "Tokenization: 100%|██████████| 20/20 [00:00<00:00, 263.63it/s]\n",
      "Inference: 100%|██████████| 1/1 [00:16<00:00, 16.93s/it]\n"
     ]
    },
    {
     "name": "stdout",
     "output_type": "stream",
     "text": [
      "Wall time: 17.3 s\n"
     ]
    }
   ],
   "source": [
    "%%time\n",
    "entity_list = ner(df.content)"
   ]
  },
  {
   "cell_type": "code",
   "execution_count": 18,
   "metadata": {},
   "outputs": [
    {
     "data": {
      "text/plain": [
       "[NerToken(word='微軟', ner='ORG', idx=(30, 32)),\n",
       " NerToken(word='數年前', ner='DATE', idx=(33, 36)),\n",
       " NerToken(word='2019年', ner='DATE', idx=(97, 102)),\n",
       " NerToken(word='Athena', ner='ORG', idx=(106, 112)),\n",
       " NerToken(word='微軟', ner='ORG', idx=(148, 150)),\n",
       " NerToken(word='微軟', ner='ORG', idx=(189, 191)),\n",
       " NerToken(word='Athena', ner='ORG', idx=(204, 210)),\n",
       " NerToken(word='Athena', ner='ORG', idx=(231, 237)),\n",
       " NerToken(word='台積電5奈米', ner='ORG', idx=(263, 269)),\n",
       " NerToken(word='微軟', ner='ORG', idx=(275, 277)),\n",
       " NerToken(word='ChatGPT', ner='ORG', idx=(302, 309)),\n",
       " NerToken(word='微軟', ner='ORG', idx=(312, 314)),\n",
       " NerToken(word='AI', ner='ORG', idx=(322, 324)),\n",
       " NerToken(word='Windows', ner='ORG', idx=(345, 352)),\n",
       " NerToken(word='GPU', ner='ORG', idx=(415, 418)),\n",
       " NerToken(word='Nvidia', ner='ORG', idx=(420, 426)),\n",
       " NerToken(word='4萬美元', ner='MONEY', idx=(458, 462)),\n",
       " NerToken(word='idia', ner='ORG', idx=(510, 514)),\n",
       " NerToken(word='微軟', ner='ORG', idx=(521, 523)),\n",
       " NerToken(word='Nvidia', ner='ORG', idx=(524, 530)),\n",
       " NerToken(word='微軟', ner='ORG', idx=(542, 544)),\n",
       " NerToken(word='微軟', ner='ORG', idx=(556, 558)),\n",
       " NerToken(word='2017年', ner='DATE', idx=(558, 563)),\n",
       " NerToken(word='雲端大廠', ner='ORG', idx=(606, 610)),\n",
       " NerToken(word='騰訊', ner='ORG', idx=(640, 642)),\n",
       " NerToken(word='阿里巴', ner='ORG', idx=(643, 646))]"
      ]
     },
     "execution_count": 18,
     "metadata": {},
     "output_type": "execute_result"
    }
   ],
   "source": [
    "entity_list[0]"
   ]
  },
  {
   "cell_type": "code",
   "execution_count": 19,
   "metadata": {},
   "outputs": [
    {
     "name": "stdout",
     "output_type": "stream",
     "text": [
      "1. 20\n",
      "2. (' ', 'WHITESPACE')\n"
     ]
    }
   ],
   "source": [
    "word_pos_pair = [list(zip(w,p)) for w, p in zip(tokens, tokens_pos)]\n",
    "\n",
    "print(\"1.\", len(word_pos_pair))\n",
    "print(\"2.\", word_pos_pair[1][0])"
   ]
  },
  {
   "cell_type": "code",
   "execution_count": 20,
   "metadata": {},
   "outputs": [],
   "source": [
    "# with open('stops_chinese_traditional.txt', 'r', encoding='utf8') as f:\n",
    "#     stops = f.read().split('\\n') "
   ]
  },
  {
   "cell_type": "code",
   "execution_count": 21,
   "metadata": {},
   "outputs": [
    {
     "data": {
      "text/plain": [
       "['投入',\n",
       " '策略',\n",
       " '微軟',\n",
       " '開發',\n",
       " '模型',\n",
       " '訓練',\n",
       " '執行',\n",
       " '聊天',\n",
       " '機器人',\n",
       " '設計',\n",
       " '晶片',\n",
       " '代號',\n",
       " '報導',\n",
       " '引述',\n",
       " '消息',\n",
       " '人士',\n",
       " '微軟',\n",
       " '啟動',\n",
       " '專案',\n",
       " '整合',\n",
       " '設計',\n",
       " '晶片',\n",
       " '晶片',\n",
       " '效能',\n",
       " '微軟',\n",
       " '投資',\n",
       " '新創',\n",
       " '公司',\n",
       " '消息',\n",
       " '人士',\n",
       " '微軟',\n",
       " '員工',\n",
       " '拿到',\n",
       " '工程',\n",
       " '樣品',\n",
       " '投入',\n",
       " '專案',\n",
       " '開發',\n",
       " '專案',\n",
       " '規畫',\n",
       " '設計',\n",
       " '台積電',\n",
       " '奈米',\n",
       " '生產',\n",
       " '微軟',\n",
       " '投資',\n",
       " '取得',\n",
       " '模型',\n",
       " '技術',\n",
       " '微軟',\n",
       " '目的',\n",
       " '整合到',\n",
       " '產品',\n",
       " '服務',\n",
       " '雲端',\n",
       " '服務',\n",
       " '高效能',\n",
       " '晶片',\n",
       " '雲端',\n",
       " '運行',\n",
       " '底層',\n",
       " '天價硬體',\n",
       " '成本',\n",
       " '分析',\n",
       " '系統',\n",
       " '使用',\n",
       " '市場',\n",
       " '售價',\n",
       " '研發',\n",
       " '晶片',\n",
       " '微軟',\n",
       " '資料',\n",
       " '中心',\n",
       " '成本',\n",
       " '提升',\n",
       " '開發',\n",
       " '主導性',\n",
       " '開發',\n",
       " '時程',\n",
       " '取得和',\n",
       " '議價',\n",
       " '籌碼',\n",
       " '微軟',\n",
       " '回應',\n",
       " '微軟',\n",
       " '投入',\n",
       " '硬體',\n",
       " '開發',\n",
       " '微軟',\n",
       " '專案',\n",
       " '開發',\n",
       " '雲端',\n",
       " '邊緣',\n",
       " '執行',\n",
       " '推論',\n",
       " '深度',\n",
       " '平臺',\n",
       " '雲端',\n",
       " '騰訊',\n",
       " '阿里巴巴',\n",
       " '投入',\n",
       " '自製',\n",
       " '晶片']"
      ]
     },
     "execution_count": 21,
     "metadata": {},
     "output_type": "execute_result"
    }
   ],
   "source": [
    "allowPOS=['Na','Nb','Nc','VA','VAC','VB','VC']\n",
    "\n",
    "tokens_v2 =[]\n",
    "for wp in word_pos_pair:\n",
    "    tokens_v2.append([w for w,p in wp if (len(w) >= 2) and p in allowPOS])\n",
    "\n",
    "tokens_v2[0]"
   ]
  },
  {
   "attachments": {},
   "cell_type": "markdown",
   "metadata": {},
   "source": [
    "### **新增段詞資料欄位**"
   ]
  },
  {
   "cell_type": "code",
   "execution_count": 22,
   "metadata": {},
   "outputs": [],
   "source": [
    "df['tokens'] = tokens\n",
    "df['tokens_v2'] = tokens_v2\n",
    "df['entities'] = entity_list\n",
    "df['token_pos'] = word_pos_pair"
   ]
  },
  {
   "cell_type": "code",
   "execution_count": 23,
   "metadata": {},
   "outputs": [],
   "source": [
    "# df"
   ]
  },
  {
   "cell_type": "markdown",
   "metadata": {},
   "source": [
    "### **統計字頻**"
   ]
  },
  {
   "cell_type": "code",
   "execution_count": 24,
   "metadata": {},
   "outputs": [],
   "source": [
    "# allowPOS過濾條件:兩個字以上與特定的詞性\n",
    "allowPOS=['Na','Nb','Nc','VA','VAC','VB','VC']"
   ]
  },
  {
   "cell_type": "code",
   "execution_count": 25,
   "metadata": {},
   "outputs": [],
   "source": [
    "from collections import Counter\n",
    "def word_frequency(word_pos_pair):\n",
    "    filtered_words =[]\n",
    "    for word, pos in word_pos_pair:\n",
    "        if (pos in allowPOS) & (len(word) >= 2):            \n",
    "            filtered_words.append(word)\n",
    "        #print('%s %s' % (word, flag))\n",
    "    c = Counter( filtered_words)\n",
    "    return c.most_common(30)\n",
    "\n",
    "# 看過濾後重新搭配的: word_pos_pair[\"第幾篇\"]"
   ]
  },
  {
   "cell_type": "code",
   "execution_count": 26,
   "metadata": {},
   "outputs": [
    {
     "data": {
      "text/plain": [
       "[('功能', 9),\n",
       " ('編輯', 6),\n",
       " ('影像', 5),\n",
       " ('加入', 4),\n",
       " ('人像', 4),\n",
       " ('用戶', 4),\n",
       " ('支援', 4),\n",
       " ('相片', 3),\n",
       " ('細節', 3),\n",
       " ('顏色', 3),\n",
       " ('檔案', 3),\n",
       " ('色調', 3),\n",
       " ('影片', 3),\n",
       " ('宣布', 2),\n",
       " ('噪點', 2),\n",
       " ('調整', 2),\n",
       " ('圖片', 2),\n",
       " ('軟體', 2),\n",
       " ('行動版', 2),\n",
       " ('模型', 2),\n",
       " ('鬍鬚', 2),\n",
       " ('處理', 2),\n",
       " ('曲線', 2),\n",
       " ('內容', 2),\n",
       " ('真實性', 2),\n",
       " ('文字', 2),\n",
       " ('來源', 2),\n",
       " ('產品', 1),\n",
       " ('大會', 1),\n",
       " ('整合', 1)]"
      ]
     },
     "execution_count": 26,
     "metadata": {},
     "output_type": "execute_result"
    }
   ],
   "source": [
    "words = word_frequency(word_pos_pair[1])\n",
    "words"
   ]
  },
  {
   "cell_type": "code",
   "execution_count": 27,
   "metadata": {},
   "outputs": [
    {
     "name": "stdout",
     "output_type": "stream",
     "text": [
      "Wall time: 13.9 ms\n"
     ]
    },
    {
     "data": {
      "text/html": [
       "<div>\n",
       "<style scoped>\n",
       "    .dataframe tbody tr th:only-of-type {\n",
       "        vertical-align: middle;\n",
       "    }\n",
       "\n",
       "    .dataframe tbody tr th {\n",
       "        vertical-align: top;\n",
       "    }\n",
       "\n",
       "    .dataframe thead th {\n",
       "        text-align: right;\n",
       "    }\n",
       "</style>\n",
       "<table border=\"1\" class=\"dataframe\">\n",
       "  <thead>\n",
       "    <tr style=\"text-align: right;\">\n",
       "      <th></th>\n",
       "      <th>item_id</th>\n",
       "      <th>date</th>\n",
       "      <th>category</th>\n",
       "      <th>title</th>\n",
       "      <th>content</th>\n",
       "      <th>link</th>\n",
       "      <th>photo_link</th>\n",
       "      <th>tokens</th>\n",
       "      <th>tokens_v2</th>\n",
       "      <th>entities</th>\n",
       "      <th>token_pos</th>\n",
       "      <th>top_key_freq</th>\n",
       "    </tr>\n",
       "  </thead>\n",
       "  <tbody>\n",
       "    <tr>\n",
       "      <th>0</th>\n",
       "      <td>big-data_20230420_1</td>\n",
       "      <td>2023-04-20</td>\n",
       "      <td>AI</td>\n",
       "      <td>微軟傳已投入開發自有AI專用晶片</td>\n",
       "      <td>《The Information》報導，積極投入AI策略的微軟，數年前已著手開發一顆專門為...</td>\n",
       "      <td>https://www.ithome.com.tw//news/156484</td>\n",
       "      <td>https://s4.itho.me/sites/default/files/styles/...</td>\n",
       "      <td>[ , 《, The,  , Information, 》, 報導, ，, 積極, 投入, ...</td>\n",
       "      <td>[投入, 策略, 微軟, 開發, 模型, 訓練, 執行, 聊天, 機器人, 設計, 晶片, ...</td>\n",
       "      <td>[(微軟, ORG, (30, 32)), (數年前, DATE, (33, 36)), (...</td>\n",
       "      <td>[( , WHITESPACE), (《, PARENTHESISCATEGORY), (T...</td>\n",
       "      <td>[(微軟, 10), (開發, 6), (晶片, 6), (投入, 4), (專案, 4),...</td>\n",
       "    </tr>\n",
       "    <tr>\n",
       "      <th>1</th>\n",
       "      <td>big-data_20230420_2</td>\n",
       "      <td>2023-04-20</td>\n",
       "      <td>AI</td>\n",
       "      <td>Adobe Lightroom新增以AI消除噪點、強化細節修整的功能</td>\n",
       "      <td>本周在NAB產品大會上，Adobe宣布多項整合AI，可消除相片噪點、調整圖片細節的新Lig...</td>\n",
       "      <td>https://www.ithome.com.tw//news/156482</td>\n",
       "      <td>https://s4.itho.me/sites/default/files/styles/...</td>\n",
       "      <td>[ , 本, 周, 在, NAB, 產品, 大會, 上, ，, Adobe, 宣布, 多, ...</td>\n",
       "      <td>[產品, 大會, 宣布, 整合, 消除, 相片, 噪點, 調整, 圖片, 細節, 功能, 相...</td>\n",
       "      <td>[(本周, DATE, (1, 3)), (Adobe, PERSON, (13, 18))...</td>\n",
       "      <td>[( , WHITESPACE), (本, Nes), (周, Nd), (在, P), (...</td>\n",
       "      <td>[(功能, 9), (編輯, 6), (影像, 5), (加入, 4), (人像, 4), ...</td>\n",
       "    </tr>\n",
       "    <tr>\n",
       "      <th>2</th>\n",
       "      <td>big-data_20230420_3</td>\n",
       "      <td>2023-04-20</td>\n",
       "      <td>AI</td>\n",
       "      <td>Snapchat開放聊天機器人供全球用戶免費體驗，推出AI生成的濾鏡</td>\n",
       "      <td>Snapchat於今年2月已經宣布與OpenAI合作推出名為「我的 AI（My AI）」的...</td>\n",
       "      <td>https://www.ithome.com.tw//news/156481</td>\n",
       "      <td>https://s4.itho.me/sites/default/files/styles/...</td>\n",
       "      <td>[ Snapchat, 於, 今年, 2月, 已經, 宣布, 與, Open, AI, 合作...</td>\n",
       "      <td>[宣布, 推出, 智慧, 助理, 付費, 訂閱, 用戶, 美金, 世界, 使用, 聊天, 機...</td>\n",
       "      <td>[(今年, DATE, (10, 12)), (2月, DATE, (12, 14)), (...</td>\n",
       "      <td>[( Snapchat, FW), (於, P), (今年, Nd), (2月, Nd), ...</td>\n",
       "      <td>[(濾鏡, 11), (用戶, 9), (機器人, 5), (使用, 4), (聊天, 4)...</td>\n",
       "    </tr>\n",
       "  </tbody>\n",
       "</table>\n",
       "</div>"
      ],
      "text/plain": [
       "               item_id        date category  \\\n",
       "0  big-data_20230420_1  2023-04-20       AI   \n",
       "1  big-data_20230420_2  2023-04-20       AI   \n",
       "2  big-data_20230420_3  2023-04-20       AI   \n",
       "\n",
       "                                 title  \\\n",
       "0                    微軟傳已投入開發自有AI專用晶片    \n",
       "1  Adobe Lightroom新增以AI消除噪點、強化細節修整的功能    \n",
       "2  Snapchat開放聊天機器人供全球用戶免費體驗，推出AI生成的濾鏡    \n",
       "\n",
       "                                             content  \\\n",
       "0   《The Information》報導，積極投入AI策略的微軟，數年前已著手開發一顆專門為...   \n",
       "1   本周在NAB產品大會上，Adobe宣布多項整合AI，可消除相片噪點、調整圖片細節的新Lig...   \n",
       "2   Snapchat於今年2月已經宣布與OpenAI合作推出名為「我的 AI（My AI）」的...   \n",
       "\n",
       "                                     link  \\\n",
       "0  https://www.ithome.com.tw//news/156484   \n",
       "1  https://www.ithome.com.tw//news/156482   \n",
       "2  https://www.ithome.com.tw//news/156481   \n",
       "\n",
       "                                          photo_link  \\\n",
       "0  https://s4.itho.me/sites/default/files/styles/...   \n",
       "1  https://s4.itho.me/sites/default/files/styles/...   \n",
       "2  https://s4.itho.me/sites/default/files/styles/...   \n",
       "\n",
       "                                              tokens  \\\n",
       "0  [ , 《, The,  , Information, 》, 報導, ，, 積極, 投入, ...   \n",
       "1  [ , 本, 周, 在, NAB, 產品, 大會, 上, ，, Adobe, 宣布, 多, ...   \n",
       "2  [ Snapchat, 於, 今年, 2月, 已經, 宣布, 與, Open, AI, 合作...   \n",
       "\n",
       "                                           tokens_v2  \\\n",
       "0  [投入, 策略, 微軟, 開發, 模型, 訓練, 執行, 聊天, 機器人, 設計, 晶片, ...   \n",
       "1  [產品, 大會, 宣布, 整合, 消除, 相片, 噪點, 調整, 圖片, 細節, 功能, 相...   \n",
       "2  [宣布, 推出, 智慧, 助理, 付費, 訂閱, 用戶, 美金, 世界, 使用, 聊天, 機...   \n",
       "\n",
       "                                            entities  \\\n",
       "0  [(微軟, ORG, (30, 32)), (數年前, DATE, (33, 36)), (...   \n",
       "1  [(本周, DATE, (1, 3)), (Adobe, PERSON, (13, 18))...   \n",
       "2  [(今年, DATE, (10, 12)), (2月, DATE, (12, 14)), (...   \n",
       "\n",
       "                                           token_pos  \\\n",
       "0  [( , WHITESPACE), (《, PARENTHESISCATEGORY), (T...   \n",
       "1  [( , WHITESPACE), (本, Nes), (周, Nd), (在, P), (...   \n",
       "2  [( Snapchat, FW), (於, P), (今年, Nd), (2月, Nd), ...   \n",
       "\n",
       "                                        top_key_freq  \n",
       "0  [(微軟, 10), (開發, 6), (晶片, 6), (投入, 4), (專案, 4),...  \n",
       "1  [(功能, 9), (編輯, 6), (影像, 5), (加入, 4), (人像, 4), ...  \n",
       "2  [(濾鏡, 11), (用戶, 9), (機器人, 5), (使用, 4), (聊天, 4)...  "
      ]
     },
     "execution_count": 27,
     "metadata": {},
     "output_type": "execute_result"
    }
   ],
   "source": [
    "%%time\n",
    "keyfreqs =[]\n",
    "for wp in word_pos_pair:\n",
    "    topwords = word_frequency(wp)\n",
    "    keyfreqs.append(topwords)  \n",
    "\n",
    "# keyfreqs[0]: 看第0篇過濾後斷詞的字頻\n",
    "# keyfreqs[0:2]: 看第0篇與第1篇過濾後斷詞的字頻\n",
    "\n",
    "# 再次新增欄位到資料集\n",
    "df['top_key_freq'] = keyfreqs\n",
    "df.head(3)"
   ]
  },
  {
   "cell_type": "code",
   "execution_count": 28,
   "metadata": {},
   "outputs": [
    {
     "data": {
      "text/plain": [
       "Index(['item_id', 'date', 'category', 'title', 'content', 'link', 'photo_link',\n",
       "       'tokens', 'tokens_v2', 'entities', 'token_pos', 'top_key_freq'],\n",
       "      dtype='object')"
      ]
     },
     "execution_count": 28,
     "metadata": {},
     "output_type": "execute_result"
    }
   ],
   "source": [
    "df.columns"
   ]
  },
  {
   "cell_type": "code",
   "execution_count": 29,
   "metadata": {},
   "outputs": [
    {
     "data": {
      "text/html": [
       "<div>\n",
       "<style scoped>\n",
       "    .dataframe tbody tr th:only-of-type {\n",
       "        vertical-align: middle;\n",
       "    }\n",
       "\n",
       "    .dataframe tbody tr th {\n",
       "        vertical-align: top;\n",
       "    }\n",
       "\n",
       "    .dataframe thead th {\n",
       "        text-align: right;\n",
       "    }\n",
       "</style>\n",
       "<table border=\"1\" class=\"dataframe\">\n",
       "  <thead>\n",
       "    <tr style=\"text-align: right;\">\n",
       "      <th></th>\n",
       "      <th>item_id</th>\n",
       "      <th>date</th>\n",
       "      <th>category</th>\n",
       "      <th>title</th>\n",
       "      <th>content</th>\n",
       "      <th>top_key_freq</th>\n",
       "      <th>tokens</th>\n",
       "      <th>tokens_v2</th>\n",
       "      <th>entities</th>\n",
       "      <th>token_pos</th>\n",
       "      <th>link</th>\n",
       "      <th>photo_link</th>\n",
       "    </tr>\n",
       "  </thead>\n",
       "  <tbody>\n",
       "    <tr>\n",
       "      <th>0</th>\n",
       "      <td>big-data_20230420_1</td>\n",
       "      <td>2023-04-20</td>\n",
       "      <td>AI</td>\n",
       "      <td>微軟傳已投入開發自有AI專用晶片</td>\n",
       "      <td>《The Information》報導，積極投入AI策略的微軟，數年前已著手開發一顆專門為...</td>\n",
       "      <td>[(微軟, 10), (開發, 6), (晶片, 6), (投入, 4), (專案, 4),...</td>\n",
       "      <td>[ , 《, The,  , Information, 》, 報導, ，, 積極, 投入, ...</td>\n",
       "      <td>[投入, 策略, 微軟, 開發, 模型, 訓練, 執行, 聊天, 機器人, 設計, 晶片, ...</td>\n",
       "      <td>[(微軟, ORG, (30, 32)), (數年前, DATE, (33, 36)), (...</td>\n",
       "      <td>[( , WHITESPACE), (《, PARENTHESISCATEGORY), (T...</td>\n",
       "      <td>https://www.ithome.com.tw//news/156484</td>\n",
       "      <td>https://s4.itho.me/sites/default/files/styles/...</td>\n",
       "    </tr>\n",
       "  </tbody>\n",
       "</table>\n",
       "</div>"
      ],
      "text/plain": [
       "               item_id        date category              title  \\\n",
       "0  big-data_20230420_1  2023-04-20       AI  微軟傳已投入開發自有AI專用晶片    \n",
       "\n",
       "                                             content  \\\n",
       "0   《The Information》報導，積極投入AI策略的微軟，數年前已著手開發一顆專門為...   \n",
       "\n",
       "                                        top_key_freq  \\\n",
       "0  [(微軟, 10), (開發, 6), (晶片, 6), (投入, 4), (專案, 4),...   \n",
       "\n",
       "                                              tokens  \\\n",
       "0  [ , 《, The,  , Information, 》, 報導, ，, 積極, 投入, ...   \n",
       "\n",
       "                                           tokens_v2  \\\n",
       "0  [投入, 策略, 微軟, 開發, 模型, 訓練, 執行, 聊天, 機器人, 設計, 晶片, ...   \n",
       "\n",
       "                                            entities  \\\n",
       "0  [(微軟, ORG, (30, 32)), (數年前, DATE, (33, 36)), (...   \n",
       "\n",
       "                                           token_pos  \\\n",
       "0  [( , WHITESPACE), (《, PARENTHESISCATEGORY), (T...   \n",
       "\n",
       "                                     link  \\\n",
       "0  https://www.ithome.com.tw//news/156484   \n",
       "\n",
       "                                          photo_link  \n",
       "0  https://s4.itho.me/sites/default/files/styles/...  "
      ]
     },
     "execution_count": 29,
     "metadata": {},
     "output_type": "execute_result"
    }
   ],
   "source": [
    "df=df[['item_id', 'date', 'category', 'title', 'content', 'top_key_freq', 'tokens', 'tokens_v2', 'entities', 'token_pos', 'link', 'photo_link']]\n",
    "df.head(1)"
   ]
  },
  {
   "cell_type": "code",
   "execution_count": 30,
   "metadata": {},
   "outputs": [],
   "source": [
    "df.to_csv('ithome_dataset_processed.csv', sep='|', index=False)"
   ]
  },
  {
   "cell_type": "code",
   "execution_count": 31,
   "metadata": {},
   "outputs": [
    {
     "data": {
      "text/html": [
       "<div>\n",
       "<style scoped>\n",
       "    .dataframe tbody tr th:only-of-type {\n",
       "        vertical-align: middle;\n",
       "    }\n",
       "\n",
       "    .dataframe tbody tr th {\n",
       "        vertical-align: top;\n",
       "    }\n",
       "\n",
       "    .dataframe thead th {\n",
       "        text-align: right;\n",
       "    }\n",
       "</style>\n",
       "<table border=\"1\" class=\"dataframe\">\n",
       "  <thead>\n",
       "    <tr style=\"text-align: right;\">\n",
       "      <th></th>\n",
       "      <th>item_id</th>\n",
       "      <th>date</th>\n",
       "      <th>category</th>\n",
       "      <th>title</th>\n",
       "      <th>content</th>\n",
       "      <th>top_key_freq</th>\n",
       "      <th>tokens</th>\n",
       "      <th>tokens_v2</th>\n",
       "      <th>entities</th>\n",
       "      <th>token_pos</th>\n",
       "      <th>link</th>\n",
       "      <th>photo_link</th>\n",
       "    </tr>\n",
       "  </thead>\n",
       "  <tbody>\n",
       "    <tr>\n",
       "      <th>0</th>\n",
       "      <td>big-data_20230420_1</td>\n",
       "      <td>2023-04-20</td>\n",
       "      <td>AI</td>\n",
       "      <td>微軟傳已投入開發自有AI專用晶片</td>\n",
       "      <td>《The Information》報導，積極投入AI策略的微軟，數年前已著手開發一顆專門為...</td>\n",
       "      <td>[('微軟', 10), ('開發', 6), ('晶片', 6), ('投入', 4), ...</td>\n",
       "      <td>[' ', '《', 'The', ' ', 'Information', '》', '報導...</td>\n",
       "      <td>['投入', '策略', '微軟', '開發', '模型', '訓練', '執行', '聊天...</td>\n",
       "      <td>[NerToken(word='微軟', ner='ORG', idx=(30, 32)),...</td>\n",
       "      <td>[(' ', 'WHITESPACE'), ('《', 'PARENTHESISCATEGO...</td>\n",
       "      <td>https://www.ithome.com.tw//news/156484</td>\n",
       "      <td>https://s4.itho.me/sites/default/files/styles/...</td>\n",
       "    </tr>\n",
       "    <tr>\n",
       "      <th>1</th>\n",
       "      <td>big-data_20230420_2</td>\n",
       "      <td>2023-04-20</td>\n",
       "      <td>AI</td>\n",
       "      <td>Adobe Lightroom新增以AI消除噪點、強化細節修整的功能</td>\n",
       "      <td>本周在NAB產品大會上，Adobe宣布多項整合AI，可消除相片噪點、調整圖片細節的新Lig...</td>\n",
       "      <td>[('功能', 9), ('編輯', 6), ('影像', 5), ('加入', 4), (...</td>\n",
       "      <td>[' ', '本', '周', '在', 'NAB', '產品', '大會', '上', '...</td>\n",
       "      <td>['產品', '大會', '宣布', '整合', '消除', '相片', '噪點', '調整...</td>\n",
       "      <td>[NerToken(word='本周', ner='DATE', idx=(1, 3)), ...</td>\n",
       "      <td>[(' ', 'WHITESPACE'), ('本', 'Nes'), ('周', 'Nd'...</td>\n",
       "      <td>https://www.ithome.com.tw//news/156482</td>\n",
       "      <td>https://s4.itho.me/sites/default/files/styles/...</td>\n",
       "    </tr>\n",
       "    <tr>\n",
       "      <th>2</th>\n",
       "      <td>big-data_20230420_3</td>\n",
       "      <td>2023-04-20</td>\n",
       "      <td>AI</td>\n",
       "      <td>Snapchat開放聊天機器人供全球用戶免費體驗，推出AI生成的濾鏡</td>\n",
       "      <td>Snapchat於今年2月已經宣布與OpenAI合作推出名為「我的 AI（My AI）」的...</td>\n",
       "      <td>[('濾鏡', 11), ('用戶', 9), ('機器人', 5), ('使用', 4),...</td>\n",
       "      <td>[' Snapchat', '於', '今年', '2月', '已經', '宣布', '與'...</td>\n",
       "      <td>['宣布', '推出', '智慧', '助理', '付費', '訂閱', '用戶', '美金...</td>\n",
       "      <td>[NerToken(word='今年', ner='DATE', idx=(10, 12))...</td>\n",
       "      <td>[(' Snapchat', 'FW'), ('於', 'P'), ('今年', 'Nd')...</td>\n",
       "      <td>https://www.ithome.com.tw//news/156481</td>\n",
       "      <td>https://s4.itho.me/sites/default/files/styles/...</td>\n",
       "    </tr>\n",
       "  </tbody>\n",
       "</table>\n",
       "</div>"
      ],
      "text/plain": [
       "               item_id        date category  \\\n",
       "0  big-data_20230420_1  2023-04-20       AI   \n",
       "1  big-data_20230420_2  2023-04-20       AI   \n",
       "2  big-data_20230420_3  2023-04-20       AI   \n",
       "\n",
       "                                 title  \\\n",
       "0                    微軟傳已投入開發自有AI專用晶片    \n",
       "1  Adobe Lightroom新增以AI消除噪點、強化細節修整的功能    \n",
       "2  Snapchat開放聊天機器人供全球用戶免費體驗，推出AI生成的濾鏡    \n",
       "\n",
       "                                             content  \\\n",
       "0   《The Information》報導，積極投入AI策略的微軟，數年前已著手開發一顆專門為...   \n",
       "1   本周在NAB產品大會上，Adobe宣布多項整合AI，可消除相片噪點、調整圖片細節的新Lig...   \n",
       "2   Snapchat於今年2月已經宣布與OpenAI合作推出名為「我的 AI（My AI）」的...   \n",
       "\n",
       "                                        top_key_freq  \\\n",
       "0  [('微軟', 10), ('開發', 6), ('晶片', 6), ('投入', 4), ...   \n",
       "1  [('功能', 9), ('編輯', 6), ('影像', 5), ('加入', 4), (...   \n",
       "2  [('濾鏡', 11), ('用戶', 9), ('機器人', 5), ('使用', 4),...   \n",
       "\n",
       "                                              tokens  \\\n",
       "0  [' ', '《', 'The', ' ', 'Information', '》', '報導...   \n",
       "1  [' ', '本', '周', '在', 'NAB', '產品', '大會', '上', '...   \n",
       "2  [' Snapchat', '於', '今年', '2月', '已經', '宣布', '與'...   \n",
       "\n",
       "                                           tokens_v2  \\\n",
       "0  ['投入', '策略', '微軟', '開發', '模型', '訓練', '執行', '聊天...   \n",
       "1  ['產品', '大會', '宣布', '整合', '消除', '相片', '噪點', '調整...   \n",
       "2  ['宣布', '推出', '智慧', '助理', '付費', '訂閱', '用戶', '美金...   \n",
       "\n",
       "                                            entities  \\\n",
       "0  [NerToken(word='微軟', ner='ORG', idx=(30, 32)),...   \n",
       "1  [NerToken(word='本周', ner='DATE', idx=(1, 3)), ...   \n",
       "2  [NerToken(word='今年', ner='DATE', idx=(10, 12))...   \n",
       "\n",
       "                                           token_pos  \\\n",
       "0  [(' ', 'WHITESPACE'), ('《', 'PARENTHESISCATEGO...   \n",
       "1  [(' ', 'WHITESPACE'), ('本', 'Nes'), ('周', 'Nd'...   \n",
       "2  [(' Snapchat', 'FW'), ('於', 'P'), ('今年', 'Nd')...   \n",
       "\n",
       "                                     link  \\\n",
       "0  https://www.ithome.com.tw//news/156484   \n",
       "1  https://www.ithome.com.tw//news/156482   \n",
       "2  https://www.ithome.com.tw//news/156481   \n",
       "\n",
       "                                          photo_link  \n",
       "0  https://s4.itho.me/sites/default/files/styles/...  \n",
       "1  https://s4.itho.me/sites/default/files/styles/...  \n",
       "2  https://s4.itho.me/sites/default/files/styles/...  "
      ]
     },
     "execution_count": 31,
     "metadata": {},
     "output_type": "execute_result"
    }
   ],
   "source": [
    "df = pd.read_csv('ithome_dataset_processed.csv', sep='|')\n",
    "df.head(3)"
   ]
  },
  {
   "cell_type": "code",
   "execution_count": 32,
   "metadata": {},
   "outputs": [],
   "source": [
    "# Create a new DataFrame with only the 'title' and 'summary' columns\n",
    "# df_summary = df[['category','title', 'summary']]\n",
    "\n",
    "# df_summary.to_csv('ithome_summary_with_title.csv', index=False)\n"
   ]
  },
  {
   "cell_type": "code",
   "execution_count": 33,
   "metadata": {},
   "outputs": [],
   "source": [
    "from collections import Counter\n",
    "\n",
    "# 再次過濾: 兩個字以上、特定的詞性\n",
    "# Filter condition: two words and specified POS\n",
    "allowedPOS=['Na','Nb','Nc']"
   ]
  },
  {
   "cell_type": "code",
   "execution_count": 34,
   "metadata": {},
   "outputs": [],
   "source": [
    "# 使用token_pos\n",
    "def get_top_words():\n",
    "        top_cate_words={} # final result\n",
    "        counter_all = Counter() # counter for category '全部'\n",
    "        for category in news_categories:\n",
    "            \n",
    "            # df yesterday-->This is your homework\n",
    "            # df=df[(df.date >= start_date) & (df.date <= end_date)]\n",
    "            \n",
    "            # df category\n",
    "            df_group = df[df.category == category]\n",
    "            \n",
    "            # concatenate all filtered words in the same category\n",
    "            words_group = []\n",
    "            for row in df_group.token_pos:\n",
    "                \n",
    "                # filter words for each news\n",
    "                filtered_words =[]\n",
    "                for (word, pos) in eval(row):\n",
    "                    if (len(word) >= 2) & (pos in allowedPOS):\n",
    "                        filtered_words.append(word)\n",
    "                        \n",
    "                # concatenate filtered words  \n",
    "                words_group += filtered_words\n",
    "\n",
    "            # now we can count word frequency\n",
    "            counter = Counter( words_group )\n",
    "            \n",
    "            # counter \n",
    "            counter_all += counter\n",
    "            topwords = counter.most_common(30)\n",
    "\n",
    "            # store topwords\n",
    "            top_cate_words[category]= topwords\n",
    "\n",
    "        # Process category '全部'\n",
    "        top_cate_words['全部'] = counter_all.most_common(30)\n",
    "\n",
    "        return list(top_cate_words.items())"
   ]
  },
  {
   "cell_type": "code",
   "execution_count": 35,
   "metadata": {},
   "outputs": [
    {
     "name": "stdout",
     "output_type": "stream",
     "text": [
      "Wall time: 153 ms\n"
     ]
    },
    {
     "data": {
      "text/plain": [
       "[('AI',\n",
       "  [('機器人', 29),\n",
       "   ('用戶', 16),\n",
       "   ('馬斯克', 15),\n",
       "   ('垃圾', 15),\n",
       "   ('素描', 15),\n",
       "   ('功能', 14),\n",
       "   ('微軟', 13),\n",
       "   ('分類', 13),\n",
       "   ('模型', 12),\n",
       "   ('專案', 11),\n",
       "   ('濾鏡', 11),\n",
       "   ('人員', 11),\n",
       "   ('平臺', 10),\n",
       "   ('圖片', 10),\n",
       "   ('公司', 9),\n",
       "   ('資料', 9),\n",
       "   ('作品', 9),\n",
       "   ('照片', 8),\n",
       "   ('內容', 7),\n",
       "   ('人類', 7),\n",
       "   ('晶片', 6),\n",
       "   ('技術', 6),\n",
       "   ('影像', 6),\n",
       "   ('世界', 6),\n",
       "   ('工具', 6),\n",
       "   ('攝影', 6),\n",
       "   ('經驗', 6),\n",
       "   ('動畫', 6),\n",
       "   ('目的', 5),\n",
       "   ('產品', 5)]),\n",
       " ('Cloud',\n",
       "  [('資料', 82),\n",
       "   ('模型', 65),\n",
       "   ('企業', 48),\n",
       "   ('程式', 41),\n",
       "   ('雲端', 38),\n",
       "   ('基礎', 30),\n",
       "   ('應用', 30),\n",
       "   ('電腦', 28),\n",
       "   ('用戶', 22),\n",
       "   ('資源', 21),\n",
       "   ('內容', 19),\n",
       "   ('軟體', 18),\n",
       "   ('架構', 18),\n",
       "   ('工具', 17),\n",
       "   ('員工', 17),\n",
       "   ('設施', 14),\n",
       "   ('功能', 14),\n",
       "   ('技術', 13),\n",
       "   ('程式碼', 12),\n",
       "   ('工作', 11),\n",
       "   ('文字', 11),\n",
       "   ('訓練', 11),\n",
       "   ('伺服器', 11),\n",
       "   ('時間', 10),\n",
       "   ('生成式', 9),\n",
       "   ('語言', 9),\n",
       "   ('任務', 9),\n",
       "   ('平臺', 9),\n",
       "   ('微軟', 9),\n",
       "   ('參數', 9)])]"
      ]
     },
     "execution_count": 35,
     "metadata": {},
     "output_type": "execute_result"
    }
   ],
   "source": [
    "%%time\n",
    "result = get_top_words()\n",
    "\n",
    "result[0:2]"
   ]
  },
  {
   "cell_type": "code",
   "execution_count": 36,
   "metadata": {},
   "outputs": [
    {
     "data": {
      "text/plain": [
       "\"[(' ', 'WHITESPACE'), ('《', 'PARENTHESISCATEGORY'), ('The', 'FW'), (' ', 'WHITESPACE'), ('Information', 'FW'), ('》', 'PARENTHESISCATEGORY'), ('報導', 'VE'), ('，', 'COMMACATEGORY'), ('積極', 'VH'), ('投入', 'VC'), ('AI', 'FW'), ('策略', 'Na'), ('的', 'DE'), ('微軟', 'Nb'), ('，', 'COMMACATEGORY'), ('數', 'Neu'), ('年', 'Nf'), ('前', 'Ng'), ('已', 'D'), ('著手', 'VF'), ('開發', 'VC'), ('一', 'Neu'), ('顆', 'Nf'), ('專門', 'VL'), ('為', 'P'), ('AI', 'FW'), ('模型', 'Na'), ('訓練', 'Na'), ('及', 'Caa'), ('執行', 'VC'), ('聊天', 'VA'), ('機器人', 'Na'), ('而', 'Cbb'), ('設計', 'VC'), ('的', 'DE'), ('強大', 'VH'), ('晶片', 'Na'), ('，', 'COMMACATEGORY'), ('代號', 'Na'), ('為', 'VG'), ('Athena', 'FW'), ('。', 'PERIODCATEGORY'), ('\\\\n', 'WHITESPACE'), ('報導', 'Na'), ('引述', 'VC'), ('2', 'Neu'), ('名', 'Nf'), ('消息', 'Na'), ('人士', 'Na'), ('指出', 'VE'), ('，', 'COMMACATEGORY'), ('微軟', 'Nb'), ('早', 'D'), ('在', 'P'), ('2019年', 'Neu'), ('就', 'D'), ('已', 'D'), ('啟動', 'VC'), ('Athena', 'FW'), ('專案', 'Na'), ('的', 'DE'), ('開發', 'Nv'), ('，', 'COMMACATEGORY'), ('希望', 'VK'), ('這', 'Nep'), ('顆', 'Nf'), ('軟', 'VH'), ('、硬', 'PAUSECATEGORY'), ('整合', 'VC'), ('設計', 'Na'), ('的', 'DE'), ('晶片', 'Na'), ('能', 'D'), ('提供', 'VD'), ('比', 'P'), ('市售', 'A'), ('晶片', 'Na'), ('更', 'Dfa'), ('大', 'VH'), ('的', 'DE'), ('運算', 'Nv'), ('效能', 'Na'), ('。', 'PERIODCATEGORY'), ('微軟', 'Nb'), ('2019年', 'Neu'), ('首次', 'D'), ('投資', 'VC'), ('AI', 'FW'), ('新創', 'VC'), ('公司', 'Nc'), ('OpenAI 10億', 'FW'), ('美元', 'Nf'), ('。', 'PERIODCATEGORY'), ('消息', 'Na'), ('人士', 'Na'), ('也', 'D'), ('說', 'VE'), ('，', 'COMMACATEGORY'), ('已', 'D'), ('有', 'V_2'), ('部分', 'Neqa'), ('微軟', 'Nb'), ('和', 'Caa'), ('OpenAI', 'FW'), ('員工', 'Na'), ('已經', 'D'), ('拿到', 'VC'), ('Athena', 'FW'), ('的', 'DE'), ('工程', 'Na'), ('樣品', 'Na'), ('。', 'PERIODCATEGORY'), ('\\\\n', 'WHITESPACE'), ('報導', 'VE'), ('指出', 'VE'), ('，', 'COMMACATEGORY'), ('目前', 'Nd'), ('有', 'V_2'), ('300', 'Neu'), ('人', 'Na'), ('投入', 'VC'), ('Athena', 'FW'), ('專案', 'Na'), ('開發', 'VC'), ('。', 'PERIODCATEGORY'), ('Athena', 'FW'), ('專案', 'Na'), ('規畫', 'Na'), ('數代', 'Neu'), ('設計', 'VC'), ('，', 'COMMACATEGORY'), ('第一代', 'Neu'), ('可', 'D'), ('能', 'D'), ('以', 'P'), ('台積電', 'Nb'), ('5', 'Neu'), ('奈米', 'Na'), ('製', 'Na'), ('程', 'Na'), ('生產', 'VC'), ('。', 'PERIODCATEGORY'), ('\\\\n', 'WHITESPACE'), ('微軟', 'Nb'), ('最近', 'Nd'), ('投資', 'VC'), ('O', 'FW'), ('penAI', 'FW'), ('數', 'Na'), ('十億', 'Neu'), ('美元', 'Nf'), ('，', 'COMMACATEGORY'), ('取得', 'VC'), ('其', 'Nep'), ('GPT', 'FW'), ('模型', 'Na'), ('及', 'Caa'), ('ChatGPT', 'FW'), ('技術', 'Na'), ('。', 'PERIODCATEGORY'), ('微軟', 'Nb'), ('最終', 'A'), ('目的', 'Na'), ('是', 'SHI'), ('希望', 'VK'), ('將', 'P'), ('AI', 'FW'), ('整合到', 'VC'), ('它', 'Nh'), ('所有', 'Neqa'), ('產品', 'Na'), ('服務', 'VC'), ('中', 'Ng'), ('，', 'COMMACATEGORY'), ('包括', 'VK'), ('Office', 'FW'), ('、', 'PAUSECATEGORY'), ('Windows', 'FW'), ('、', 'PAUSECATEGORY'), ('甚至', 'D'), ('整個', 'Neqa'), ('Azure', 'FW'), ('雲端', 'Nc'), ('服務', 'VC'), ('。', 'PERIODCATEGORY'), ('而', 'Cbb'), ('一旦', 'Cbb'), ('以', 'P'), ('高效能', 'Na'), ('晶片', 'Na'), ('作為', 'VG'), ('Azure', 'FW'), ('雲端', 'Nc'), ('的', 'DE'), ('運行', 'VA'), ('底層', 'Nc'), ('，', 'COMMACATEGORY'), ('將', 'D'), ('需', 'D'), ('天價硬體', 'Na'), ('成本', 'Na'), ('。', 'PERIODCATEGORY'), ('\\\\n專家', 'FW'), ('分析', 'VC'), ('，', 'COMMACATEGORY'), ('現有', 'A'), ('AI', 'FW'), ('系統', 'Na'), ('使用', 'VC'), ('的', 'DE'), ('GPU', 'FW'), ('中', 'Ng'), ('，', 'COMMACATEGORY'), ('Nvidia', 'FW'), ('的', 'DE'), ('A100', 'FW'), ('及', 'Caa'), ('H100', 'FW'), ('占', 'VJ'), ('了', 'Di'), ('90%', 'Neqa'), (' ', 'WHITESPACE'), ('的', 'DE'), ('市場', 'Nc'), ('，', 'COMMACATEGORY'), ('兩', 'Neu'), ('顆', 'Nf'), ('售價', 'Na'), ('分別', 'D'), ('在', 'P'), ('每', 'Nes'), ('顆', 'Nf'), ('1萬', 'Neu'), ('及', 'Caa'), ('4萬', 'Neu'), ('美元', 'Nf'), ('。', 'PERIODCATEGORY'), ('透過', 'P'), ('自行', 'D'), ('研發', 'VC'), ('晶片', 'Na'), ('，', 'COMMACATEGORY'), ('微軟', 'Nb'), ('可能', 'D'), ('希望', 'VK'), ('藉', 'P'), ('此', 'Nep'), ('降低', 'VHC'), ('資料', 'Na'), ('中心', 'Nc'), ('成本', 'Na'), ('，', 'COMMACATEGORY'), ('提升', 'VC'), ('開發', 'VC'), ('主導性', 'Na'), ('及', 'Caa'), ('開發', 'VC'), ('時程', 'Na'), ('，', 'COMMACATEGORY'), ('或', 'Caa'), ('至少', 'Da'), ('取得和', 'VC'), ('Nv', 'FW'), ('idia', 'FW'), ('議價', 'VA'), ('的', 'DE'), ('籌碼', 'Na'), ('。', 'PERIODCATEGORY'), ('\\\\n', 'WHITESPACE'), ('微軟', 'Nb'), ('和', 'Caa'), ('Nvidia', 'FW'), ('皆', 'D'), ('未', 'D'), ('對', 'P'), ('此', 'Nep'), ('回應', 'VC'), ('。', 'PERIODCATEGORY'), ('\\\\n', 'WHITESPACE'), ('這', 'Nep'), ('並', 'D'), ('不', 'D'), ('是', 'SHI'), ('微軟', 'Nb'), ('第一', 'Neu'), ('次', 'Nf'), ('投入', 'VC'), ('AI', 'FW'), ('硬體', 'Na'), ('開發', 'VC'), ('。', 'PERIODCATEGORY'), ('微軟', 'Nb'), ('2017年', 'Neu'), ('也', 'D'), ('透過', 'P'), ('Brainwave', 'FW'), ('專案', 'Na'), ('，', 'COMMACATEGORY'), ('開發', 'VC'), ('在', 'P'), ('雲端', 'Nc'), ('及', 'Caa'), ('邊緣', 'Nc'), ('執行', 'VC'), ('即時', 'VH'), ('AI', 'FW'), ('推論', 'Na'), ('的', 'DE'), ('深度', 'Na'), ('學習', 'Nv'), ('平臺', 'Na'), ('。', 'PERIODCATEGORY'), ('\\\\n', 'WHITESPACE'), ('其他', 'Neqa'), ('的', 'DE'), ('雲端', 'Nc'), ('大', 'VH'), ('廠', 'Nc'), ('，', 'COMMACATEGORY'), ('包括', 'VK'), ('Google', 'FW'), ('、', 'PAUSECATEGORY'), ('Amazon', 'FW'), (' Web ', 'FW'), ('Services', 'FW'), ('、', 'PAUSECATEGORY'), ('騰訊', 'VA'), ('、', 'PAUSECATEGORY'), ('阿里巴巴', 'Nb'), ('等', 'Cab'), ('也', 'D'), ('都', 'D'), ('投入', 'VC'), ('自製', 'VC'), ('AI', 'FW'), ('晶片', 'Na'), ('。', 'PERIODCATEGORY'), ('\\\\n', 'WHITESPACE')]\""
      ]
     },
     "execution_count": 36,
     "metadata": {},
     "output_type": "execute_result"
    }
   ],
   "source": [
    "row0 = df.iloc[0].token_pos\n",
    "row0\n",
    "# type(row0) 是 str"
   ]
  },
  {
   "cell_type": "code",
   "execution_count": 37,
   "metadata": {},
   "outputs": [],
   "source": [
    "# eval: 不論是整數或浮點數都會自動轉型成可以做計算的數值\n",
    "row0 = eval(df.iloc[0].token_pos)\n",
    "row1 = eval(df.iloc[1].token_pos)\n",
    "row01 = row0+row1"
   ]
  },
  {
   "cell_type": "code",
   "execution_count": 38,
   "metadata": {},
   "outputs": [
    {
     "data": {
      "text/plain": [
       "[(('，', 'COMMACATEGORY'), 48),\n",
       " (('的', 'DE'), 29),\n",
       " (('。', 'PERIODCATEGORY'), 27),\n",
       " (('AI', 'FW'), 15),\n",
       " (('及', 'Caa'), 12),\n",
       " (('、', 'PAUSECATEGORY'), 12),\n",
       " (('微軟', 'Nb'), 10),\n",
       " (('\\n', 'WHITESPACE'), 9),\n",
       " (('可', 'D'), 9),\n",
       " (('功能', 'Na'), 9)]"
      ]
     },
     "execution_count": 38,
     "metadata": {},
     "output_type": "execute_result"
    }
   ],
   "source": [
    "c0 =Counter( row0 )\n",
    "c1 =Counter( row1 )\n",
    "\n",
    "c0.most_common(10)\n",
    "c1.most_common(10)\n",
    "\n",
    "c01 = c0+c1\n",
    "c01.most_common(10)"
   ]
  },
  {
   "cell_type": "code",
   "execution_count": 39,
   "metadata": {},
   "outputs": [
    {
     "data": {
      "text/html": [
       "<div>\n",
       "<style scoped>\n",
       "    .dataframe tbody tr th:only-of-type {\n",
       "        vertical-align: middle;\n",
       "    }\n",
       "\n",
       "    .dataframe tbody tr th {\n",
       "        vertical-align: top;\n",
       "    }\n",
       "\n",
       "    .dataframe thead th {\n",
       "        text-align: right;\n",
       "    }\n",
       "</style>\n",
       "<table border=\"1\" class=\"dataframe\">\n",
       "  <thead>\n",
       "    <tr style=\"text-align: right;\">\n",
       "      <th></th>\n",
       "      <th>category</th>\n",
       "      <th>top_keys</th>\n",
       "    </tr>\n",
       "  </thead>\n",
       "  <tbody>\n",
       "    <tr>\n",
       "      <th>0</th>\n",
       "      <td>AI</td>\n",
       "      <td>[(機器人, 29), (用戶, 16), (馬斯克, 15), (垃圾, 15), (素描...</td>\n",
       "    </tr>\n",
       "    <tr>\n",
       "      <th>1</th>\n",
       "      <td>Cloud</td>\n",
       "      <td>[(資料, 82), (模型, 65), (企業, 48), (程式, 41), (雲端, ...</td>\n",
       "    </tr>\n",
       "    <tr>\n",
       "      <th>2</th>\n",
       "      <td>全部</td>\n",
       "      <td>[(資料, 91), (模型, 77), (企業, 49), (程式, 43), (雲端, ...</td>\n",
       "    </tr>\n",
       "  </tbody>\n",
       "</table>\n",
       "</div>"
      ],
      "text/plain": [
       "  category                                           top_keys\n",
       "0       AI  [(機器人, 29), (用戶, 16), (馬斯克, 15), (垃圾, 15), (素描...\n",
       "1    Cloud  [(資料, 82), (模型, 65), (企業, 48), (程式, 41), (雲端, ...\n",
       "2       全部  [(資料, 91), (模型, 77), (企業, 49), (程式, 43), (雲端, ..."
      ]
     },
     "execution_count": 39,
     "metadata": {},
     "output_type": "execute_result"
    }
   ],
   "source": [
    "top_group_words = get_top_words()\n",
    "df_top_group_words = pd.DataFrame(top_group_words, columns = ['category','top_keys'])\n",
    "df_top_group_words"
   ]
  },
  {
   "cell_type": "code",
   "execution_count": 40,
   "metadata": {},
   "outputs": [],
   "source": [
    "df_top_group_words.to_csv('ithome_news_topkey_with_category_via_token_pos.csv', index=False)"
   ]
  },
  {
   "cell_type": "code",
   "execution_count": 41,
   "metadata": {},
   "outputs": [
    {
     "data": {
      "text/plain": [
       "[('機器人', 29),\n",
       " ('用戶', 16),\n",
       " ('馬斯克', 15),\n",
       " ('垃圾', 15),\n",
       " ('素描', 15),\n",
       " ('功能', 14),\n",
       " ('微軟', 13),\n",
       " ('分類', 13),\n",
       " ('模型', 12),\n",
       " ('專案', 11),\n",
       " ('濾鏡', 11),\n",
       " ('人員', 11),\n",
       " ('平臺', 10),\n",
       " ('圖片', 10),\n",
       " ('公司', 9),\n",
       " ('資料', 9),\n",
       " ('作品', 9),\n",
       " ('照片', 8),\n",
       " ('內容', 7),\n",
       " ('人類', 7),\n",
       " ('晶片', 6),\n",
       " ('技術', 6),\n",
       " ('影像', 6),\n",
       " ('世界', 6),\n",
       " ('工具', 6),\n",
       " ('攝影', 6),\n",
       " ('經驗', 6),\n",
       " ('動畫', 6),\n",
       " ('目的', 5),\n",
       " ('產品', 5)]"
      ]
     },
     "execution_count": 41,
     "metadata": {},
     "output_type": "execute_result"
    }
   ],
   "source": [
    "df_data = pd.read_csv('ithome_news_topkey_with_category_via_token_pos.csv',sep=',')\n",
    "# df_data.head(12)\n",
    "\n",
    "# df_data['top_keys'][0] 為字串，並非list\n",
    "eval(df_data['top_keys'][0])"
   ]
  },
  {
   "cell_type": "code",
   "execution_count": 42,
   "metadata": {},
   "outputs": [
    {
     "data": {
      "text/plain": [
       "[('機器人', 29), ('用戶', 16), ('馬斯克', 15)]"
      ]
     },
     "execution_count": 42,
     "metadata": {},
     "output_type": "execute_result"
    }
   ],
   "source": [
    "data={}\n",
    "for idx, row in df_data.iterrows():\n",
    "    data[row['category']]= eval(row['top_keys'])\n",
    "\n",
    "# data\n",
    "data['AI'][0:3]"
   ]
  },
  {
   "cell_type": "code",
   "execution_count": 43,
   "metadata": {},
   "outputs": [],
   "source": [
    "# sum={}\n",
    "# for idx, row in df_summary.iterrows():\n",
    "#     sum[row['title']]= eval(row['summary'])\n",
    "# sum"
   ]
  }
 ],
 "metadata": {
  "kernelspec": {
   "display_name": "Python 3",
   "language": "python",
   "name": "python3"
  },
  "language_info": {
   "codemirror_mode": {
    "name": "ipython",
    "version": 3
   },
   "file_extension": ".py",
   "mimetype": "text/x-python",
   "name": "python",
   "nbconvert_exporter": "python",
   "pygments_lexer": "ipython3",
   "version": "3.8.16"
  },
  "orig_nbformat": 4
 },
 "nbformat": 4,
 "nbformat_minor": 2
}
